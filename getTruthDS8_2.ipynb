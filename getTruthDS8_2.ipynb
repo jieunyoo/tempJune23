{
 "cells": [
  {
   "cell_type": "code",
   "execution_count": 1,
   "id": "6680cbec-9c42-4716-ba8f-a8ef2031438d",
   "metadata": {},
   "outputs": [],
   "source": [
    "import matplotlib\n",
    "import matplotlib.pyplot as plt\n",
    "#from labellines import labelLine, labelLines\n",
    "import seaborn as sns\n",
    "import os\n",
    "import pandas as pd\n",
    "import glob\n",
    "import numpy as np"
   ]
  },
  {
   "cell_type": "code",
   "execution_count": 2,
   "id": "f0b0240c-f48b-4edb-8d70-3e2e34e106a7",
   "metadata": {},
   "outputs": [],
   "source": [
    "path = '/uscms/home/jieun201/nobackup/YOURWORKINGAREA/june23_ds8_labelsOnly'\n",
    "csv_files = glob.glob(path + \"/*.csv\")\n",
    "df_labels = (pd.read_csv(file) for file in csv_files)\n",
    "big_df_labels   = pd.concat(df_labels, ignore_index=True)"
   ]
  },
  {
   "cell_type": "code",
   "execution_count": 3,
   "id": "deac7d64-98d0-47a6-a194-7d671f059993",
   "metadata": {},
   "outputs": [],
   "source": [
    "#big_df_labels"
   ]
  },
  {
   "cell_type": "code",
   "execution_count": 4,
   "id": "23e36860-2f7b-498b-b942-486e0be21d3d",
   "metadata": {},
   "outputs": [],
   "source": [
    "path = '/uscms/home/jieun201/nobackup/YOURWORKINGAREA/june23_ds8_negativeLabelsOnly'\n",
    "csv_files2 = glob.glob(path + \"/*.csv\")\n",
    "df_labels2 = (pd.read_csv(file) for file in csv_files2)\n",
    "big_df_labels2   = pd.concat(df_labels2, ignore_index=True)\n",
    "#big_df_labels2"
   ]
  },
  {
   "cell_type": "code",
   "execution_count": 5,
   "id": "eba70e94-ed69-4da8-8536-74e4b1d9efb1",
   "metadata": {},
   "outputs": [],
   "source": [
    "mergePosNeg = pd.concat([big_df_labels, big_df_labels2])\n",
    "#mergePosNeg"
   ]
  },
  {
   "cell_type": "code",
   "execution_count": 6,
   "id": "a3286cf0-a405-4de2-9851-08130a6642b9",
   "metadata": {},
   "outputs": [],
   "source": [
    "#plt.hist(mergePosNeg['pt'],bins=np.linspace(-5,5,50),histtype='stepfilled');\n",
    "#plt.xlabel(r'$p_T$ [GeV]')\n",
    "#plt.ylabel('Tracks')"
   ]
  },
  {
   "cell_type": "code",
   "execution_count": 7,
   "id": "16a657d7-ee32-4a66-824b-fe5212903165",
   "metadata": {},
   "outputs": [],
   "source": [
    "#nearZeroPT = mergePosNeg[   (mergePosNeg['pt'] > 0) & (mergePosNeg['pt'] < 0.1)]\n",
    "#nearZeroPT2 = mergePosNeg[   (mergePosNeg['pt'] > -0.1) & (mergePosNeg['pt'] < 0)]\n",
    "\n",
    "s = pd.Series(mergePosNeg['pt'])\n",
    "BigSampleValueCounts = s.value_counts(bins=[-10,-2,-1.9,-1.8,-1.7,-1.6,-1.5,-1.4,-1.3,-1.2,-1.1,-1.0,-0.9,-0.8,-0.7,-0.6,-0.5,\n",
    "                                              -0.4,-0.3,-0.2,-0.1,0,0.1,0.2,0.3,0.4,0.5,0.6,0.7,0.8,0.9,1.0,1.1,1.2,1.3,1.4,\n",
    "                                              1.5,1.6,1.7,1.8,1.9,2.0,10]).sort_index()\n"
   ]
  },
  {
   "cell_type": "code",
   "execution_count": 8,
   "id": "d9bee647-28ed-4e34-b932-fce99b835d3c",
   "metadata": {},
   "outputs": [
    {
     "data": {
      "text/plain": [
       "7999350"
      ]
     },
     "execution_count": 8,
     "metadata": {},
     "output_type": "execute_result"
    }
   ],
   "source": [
    "TruthTotalCounts = np.array(BigSampleValueCounts)\n",
    "np.sum(TruthTotalCounts)"
   ]
  },
  {
   "cell_type": "code",
   "execution_count": 9,
   "id": "32d997fe-6048-4161-8bbd-eee1b50986eb",
   "metadata": {},
   "outputs": [],
   "source": [
    "df1 = pd.read_csv('/uscms/home/jieun201/nobackup/YOURWORKINGAREA/dec6_ds8/TestSetTruePT.csv')\n",
    "df2 = pd.read_csv('/home/jieun201/redo_dec6_dec8_FP/predictionsFiles.csv')\n",
    "df3 = pd.read_csv('/home/jieun201/redo_dec6_dec8_FP/true.csv')\n",
    "df2.columns.values[0] = \"predict\"\n",
    "df3.columns.values[0] = \"true\"\n",
    "df2['predict'] = df2['predict'].astype(int)\n",
    "concatenate = pd.concat([df1,df2, df3], axis=1)\n",
    "#concatenate"
   ]
  },
  {
   "cell_type": "code",
   "execution_count": 10,
   "id": "8eb5eeb6-0731-4a7a-9e49-dfd1143009fc",
   "metadata": {},
   "outputs": [
    {
     "data": {
      "text/plain": [
       "array([ 1445,   235,   279,   353,   452,   566,   606,   808,   908,\n",
       "        1157,  1447,  1779,  2100,  2797,  3306,  4435,  5401,  6170,\n",
       "        6516, 40674,    86,    82, 40678,  6706,  6404,  5383,  4182,\n",
       "        3395,  2762,  2133,  1759,  1396,  1123,   906,   781,   610,\n",
       "         495,   442,   349,   303,   254,  1377])"
      ]
     },
     "execution_count": 10,
     "metadata": {},
     "output_type": "execute_result"
    }
   ],
   "source": [
    "s2 = pd.Series(concatenate['pt'])\n",
    "BigSampleValueCounts2 = s2.value_counts(bins=[-10,-2,-1.9,-1.8,-1.7,-1.6,-1.5,-1.4,-1.3,-1.2,-1.1,-1.0,-0.9,-0.8,-0.7,-0.6,-0.5,\n",
    "                                              -0.4,-0.3,-0.2,-0.1,0,0.1,0.2,0.3,0.4,0.5,0.6,0.7,0.8,0.9,1.0,1.1,1.2,1.3,1.4,\n",
    "                                              1.5,1.6,1.7,1.8,1.9,2.0,10]).sort_index()\n",
    "testSetTotalCounts = np.array(BigSampleValueCounts2)\n",
    "testSetTotalCounts"
   ]
  },
  {
   "cell_type": "code",
   "execution_count": 11,
   "id": "f563ac3a-9639-4412-b005-d18fae07d2fe",
   "metadata": {},
   "outputs": [
    {
     "data": {
      "text/html": [
       "<div>\n",
       "<style scoped>\n",
       "    .dataframe tbody tr th:only-of-type {\n",
       "        vertical-align: middle;\n",
       "    }\n",
       "\n",
       "    .dataframe tbody tr th {\n",
       "        vertical-align: top;\n",
       "    }\n",
       "\n",
       "    .dataframe thead th {\n",
       "        text-align: right;\n",
       "    }\n",
       "</style>\n",
       "<table border=\"1\" class=\"dataframe\">\n",
       "  <thead>\n",
       "    <tr style=\"text-align: right;\">\n",
       "      <th></th>\n",
       "      <th>pt</th>\n",
       "      <th>predict</th>\n",
       "      <th>true</th>\n",
       "    </tr>\n",
       "  </thead>\n",
       "  <tbody>\n",
       "    <tr>\n",
       "      <th>1</th>\n",
       "      <td>0.195180</td>\n",
       "      <td>2</td>\n",
       "      <td>2</td>\n",
       "    </tr>\n",
       "    <tr>\n",
       "      <th>2</th>\n",
       "      <td>1.338710</td>\n",
       "      <td>2</td>\n",
       "      <td>0</td>\n",
       "    </tr>\n",
       "    <tr>\n",
       "      <th>3</th>\n",
       "      <td>0.180981</td>\n",
       "      <td>2</td>\n",
       "      <td>2</td>\n",
       "    </tr>\n",
       "    <tr>\n",
       "      <th>5</th>\n",
       "      <td>0.283597</td>\n",
       "      <td>2</td>\n",
       "      <td>0</td>\n",
       "    </tr>\n",
       "    <tr>\n",
       "      <th>6</th>\n",
       "      <td>-0.314178</td>\n",
       "      <td>1</td>\n",
       "      <td>0</td>\n",
       "    </tr>\n",
       "    <tr>\n",
       "      <th>...</th>\n",
       "      <td>...</td>\n",
       "      <td>...</td>\n",
       "      <td>...</td>\n",
       "    </tr>\n",
       "    <tr>\n",
       "      <th>163034</th>\n",
       "      <td>-0.199993</td>\n",
       "      <td>1</td>\n",
       "      <td>1</td>\n",
       "    </tr>\n",
       "    <tr>\n",
       "      <th>163035</th>\n",
       "      <td>0.395177</td>\n",
       "      <td>2</td>\n",
       "      <td>0</td>\n",
       "    </tr>\n",
       "    <tr>\n",
       "      <th>163036</th>\n",
       "      <td>-0.164451</td>\n",
       "      <td>1</td>\n",
       "      <td>1</td>\n",
       "    </tr>\n",
       "    <tr>\n",
       "      <th>163037</th>\n",
       "      <td>-0.456705</td>\n",
       "      <td>1</td>\n",
       "      <td>0</td>\n",
       "    </tr>\n",
       "    <tr>\n",
       "      <th>163039</th>\n",
       "      <td>0.124187</td>\n",
       "      <td>2</td>\n",
       "      <td>2</td>\n",
       "    </tr>\n",
       "  </tbody>\n",
       "</table>\n",
       "<p>77763 rows × 3 columns</p>\n",
       "</div>"
      ],
      "text/plain": [
       "              pt  predict  true\n",
       "1       0.195180        2     2\n",
       "2       1.338710        2     0\n",
       "3       0.180981        2     2\n",
       "5       0.283597        2     0\n",
       "6      -0.314178        1     0\n",
       "...          ...      ...   ...\n",
       "163034 -0.199993        1     1\n",
       "163035  0.395177        2     0\n",
       "163036 -0.164451        1     1\n",
       "163037 -0.456705        1     0\n",
       "163039  0.124187        2     2\n",
       "\n",
       "[77763 rows x 3 columns]"
      ]
     },
     "execution_count": 11,
     "metadata": {},
     "output_type": "execute_result"
    }
   ],
   "source": [
    "concatPosPredictRight1 = concatenate[(concatenate['predict'] ==1) | (concatenate['predict'] ==2)]\n",
    "concatPosPredictRight1"
   ]
  },
  {
   "cell_type": "code",
   "execution_count": 12,
   "id": "47f9b63a-8ef2-4027-958b-69c01d35f8d8",
   "metadata": {},
   "outputs": [
    {
     "data": {
      "text/plain": [
       "array([   96,    23,    28,    27,    32,    38,    61,    57,    68,\n",
       "         127,   123,   153,   221,   311,   446,   665,  1066,  1706,\n",
       "        2864, 27710,    78,    80, 32074,  3637,  2165,  1245,   731,\n",
       "         472,   314,   243,   195,   146,   108,    78,    71,    54,\n",
       "          35,    39,    24,    29,    27,    96])"
      ]
     },
     "execution_count": 12,
     "metadata": {},
     "output_type": "execute_result"
    }
   ],
   "source": [
    "s3 = pd.Series(concatPosPredictRight1['pt'])\n",
    "BigSampleValueCounts3 = s3.value_counts(bins=[-10,-2,-1.9,-1.8,-1.7,-1.6,-1.5,-1.4,-1.3,-1.2,-1.1,-1.0,-0.9,-0.8,-0.7,-0.6,-0.5,\n",
    "                                              -0.4,-0.3,-0.2,-0.1,0,0.1,0.2,0.3,0.4,0.5,0.6,0.7,0.8,0.9,1.0,1.1,1.2,1.3,1.4,\n",
    "                                              1.5,1.6,1.7,1.8,1.9,2.0,10]).sort_index()\n",
    "testSetAs12 = np.array(BigSampleValueCounts3)\n",
    "testSetAs12"
   ]
  },
  {
   "cell_type": "code",
   "execution_count": 13,
   "id": "69093e73-c1a5-454e-80a1-13c3d6b93cae",
   "metadata": {},
   "outputs": [
    {
     "data": {
      "text/plain": [
       "array([ 94.28650519,  97.42978723,  97.22939068,  92.14730878,\n",
       "        86.51327434,  83.3745583 ,  93.89438944,  86.52227723,\n",
       "        94.38986784,  91.03370787,  90.08914997,  93.08993817,\n",
       "        94.64904762,  91.82052199,  97.77102238,  90.06944758,\n",
       "        90.84558415,  91.60875203,  90.18600368,   5.00122929,\n",
       "         4.41860465,   4.63414634,   5.32250848,  92.91455413,\n",
       "        92.50671455,  93.83447892,  97.64060258,  96.16111929,\n",
       "        93.87002172,  94.01781528,  94.46787948,  93.93338109,\n",
       "        93.88691006,  93.84326711,  89.52880922,  94.14098361,\n",
       "        95.84444444,  89.06334842,  92.62464183,  91.60726073,\n",
       "        89.66929134, 100.19172113])"
      ]
     },
     "execution_count": 13,
     "metadata": {},
     "output_type": "execute_result"
    }
   ],
   "source": [
    "makeRatio = TruthTotalCounts/testSetTotalCounts\n",
    "makeRatio"
   ]
  },
  {
   "cell_type": "code",
   "execution_count": 14,
   "id": "854b67cf-cd07-4f96-87d8-15a72609d365",
   "metadata": {},
   "outputs": [
    {
     "data": {
      "text/plain": [
       "1959708.570841615"
      ]
     },
     "execution_count": 14,
     "metadata": {},
     "output_type": "execute_result"
    }
   ],
   "source": [
    "Sum = np.dot(testSetAs12,makeRatio)\n",
    "Sum"
   ]
  },
  {
   "cell_type": "code",
   "execution_count": 15,
   "id": "1bd7a5f6-e91f-4f9f-bf2e-bae302256617",
   "metadata": {},
   "outputs": [
    {
     "data": {
      "text/plain": [
       "0.24498347626264821"
      ]
     },
     "execution_count": 15,
     "metadata": {},
     "output_type": "execute_result"
    }
   ],
   "source": [
    "totalTracksTruthSet = 7999350 \n",
    "Sum/totalTracksTruthSet"
   ]
  }
 ],
 "metadata": {
  "kernelspec": {
   "display_name": "Python 3 (ipykernel)",
   "language": "python",
   "name": "py3-preamble"
  },
  "language_info": {
   "codemirror_mode": {
    "name": "ipython",
    "version": 3
   },
   "file_extension": ".py",
   "mimetype": "text/x-python",
   "name": "python",
   "nbconvert_exporter": "python",
   "pygments_lexer": "ipython3",
   "version": "3.9.15"
  }
 },
 "nbformat": 4,
 "nbformat_minor": 5
}
