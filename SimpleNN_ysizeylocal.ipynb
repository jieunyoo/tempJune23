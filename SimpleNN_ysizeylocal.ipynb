{
 "cells": [
  {
   "cell_type": "code",
   "execution_count": 1,
   "id": "3a8391fa-659e-448d-bc55-8f6c207a2ffb",
   "metadata": {},
   "outputs": [
    {
     "name": "stderr",
     "output_type": "stream",
     "text": [
      "2023-06-19 18:29:06.531326: I tensorflow/core/platform/cpu_feature_guard.cc:193] This TensorFlow binary is optimized with oneAPI Deep Neural Network Library (oneDNN) to use the following CPU instructions in performance-critical operations:  SSE4.1 SSE4.2 AVX AVX2 FMA\n",
      "To enable them in other operations, rebuild TensorFlow with the appropriate compiler flags.\n"
     ]
    }
   ],
   "source": [
    "from sklearn.model_selection import train_test_split\n",
    "from sklearn.metrics import mean_squared_error\n",
    "from sklearn.preprocessing import StandardScaler\n",
    "from sklearn.metrics import confusion_matrix\n",
    "from sklearn.metrics import classification_report\n",
    "import tensorflow as tf\n",
    "from tensorflow.keras import datasets, layers, models\n",
    "import keras\n",
    "from keras.models import Sequential\n",
    "from keras.layers import Dense, Dropout, Flatten\n",
    "from keras.layers import Conv2D, MaxPooling2D\n",
    "from keras.callbacks import CSVLogger\n",
    "from keras.callbacks import EarlyStopping\n",
    "from tensorflow.keras.optimizers import Adam\n",
    "import matplotlib.pyplot as plt\n",
    "import numpy as np\n",
    "import pandas as pd\n",
    "from pandas import read_csv\n",
    "import math\n",
    "import seaborn as sns"
   ]
  },
  {
   "cell_type": "code",
   "execution_count": 2,
   "id": "12180123-80b5-44e4-bd55-606f9fefc5d1",
   "metadata": {},
   "outputs": [
    {
     "data": {
      "text/html": [
       "<div>\n",
       "<style scoped>\n",
       "    .dataframe tbody tr th:only-of-type {\n",
       "        vertical-align: middle;\n",
       "    }\n",
       "\n",
       "    .dataframe tbody tr th {\n",
       "        vertical-align: top;\n",
       "    }\n",
       "\n",
       "    .dataframe thead th {\n",
       "        text-align: right;\n",
       "    }\n",
       "</style>\n",
       "<table border=\"1\" class=\"dataframe\">\n",
       "  <thead>\n",
       "    <tr style=\"text-align: right;\">\n",
       "      <th></th>\n",
       "      <th>y-size</th>\n",
       "      <th>y-local</th>\n",
       "    </tr>\n",
       "  </thead>\n",
       "  <tbody>\n",
       "    <tr>\n",
       "      <th>0</th>\n",
       "      <td>2</td>\n",
       "      <td>6.082510</td>\n",
       "    </tr>\n",
       "    <tr>\n",
       "      <th>1</th>\n",
       "      <td>3</td>\n",
       "      <td>3.385020</td>\n",
       "    </tr>\n",
       "    <tr>\n",
       "      <th>2</th>\n",
       "      <td>3</td>\n",
       "      <td>2.585680</td>\n",
       "    </tr>\n",
       "    <tr>\n",
       "      <th>3</th>\n",
       "      <td>2</td>\n",
       "      <td>6.084500</td>\n",
       "    </tr>\n",
       "    <tr>\n",
       "      <th>4</th>\n",
       "      <td>3</td>\n",
       "      <td>3.180250</td>\n",
       "    </tr>\n",
       "    <tr>\n",
       "      <th>...</th>\n",
       "      <td>...</td>\n",
       "      <td>...</td>\n",
       "    </tr>\n",
       "    <tr>\n",
       "      <th>652155</th>\n",
       "      <td>3</td>\n",
       "      <td>0.679302</td>\n",
       "    </tr>\n",
       "    <tr>\n",
       "      <th>652156</th>\n",
       "      <td>5</td>\n",
       "      <td>-0.719806</td>\n",
       "    </tr>\n",
       "    <tr>\n",
       "      <th>652157</th>\n",
       "      <td>5</td>\n",
       "      <td>-6.042060</td>\n",
       "    </tr>\n",
       "    <tr>\n",
       "      <th>652158</th>\n",
       "      <td>2</td>\n",
       "      <td>4.781100</td>\n",
       "    </tr>\n",
       "    <tr>\n",
       "      <th>652159</th>\n",
       "      <td>2</td>\n",
       "      <td>5.183270</td>\n",
       "    </tr>\n",
       "  </tbody>\n",
       "</table>\n",
       "<p>652160 rows × 2 columns</p>\n",
       "</div>"
      ],
      "text/plain": [
       "        y-size   y-local\n",
       "0            2  6.082510\n",
       "1            3  3.385020\n",
       "2            3  2.585680\n",
       "3            2  6.084500\n",
       "4            3  3.180250\n",
       "...        ...       ...\n",
       "652155       3  0.679302\n",
       "652156       5 -0.719806\n",
       "652157       5 -6.042060\n",
       "652158       2  4.781100\n",
       "652159       2  5.183270\n",
       "\n",
       "[652160 rows x 2 columns]"
      ]
     },
     "execution_count": 2,
     "metadata": {},
     "output_type": "execute_result"
    }
   ],
   "source": [
    "df1 = pd.read_csv('/uscms/home/jieun201/nobackup/YOURWORKINGAREA/dec14_ysize/FullPrecisionInputTrainSet.csv')\n",
    "df1"
   ]
  },
  {
   "cell_type": "code",
   "execution_count": 3,
   "id": "1928faac-c2d6-4345-88ef-6e714d8f2d72",
   "metadata": {},
   "outputs": [
    {
     "data": {
      "text/html": [
       "<div>\n",
       "<style scoped>\n",
       "    .dataframe tbody tr th:only-of-type {\n",
       "        vertical-align: middle;\n",
       "    }\n",
       "\n",
       "    .dataframe tbody tr th {\n",
       "        vertical-align: top;\n",
       "    }\n",
       "\n",
       "    .dataframe thead th {\n",
       "        text-align: right;\n",
       "    }\n",
       "</style>\n",
       "<table border=\"1\" class=\"dataframe\">\n",
       "  <thead>\n",
       "    <tr style=\"text-align: right;\">\n",
       "      <th></th>\n",
       "      <th>ptLabel</th>\n",
       "    </tr>\n",
       "  </thead>\n",
       "  <tbody>\n",
       "    <tr>\n",
       "      <th>0</th>\n",
       "      <td>0</td>\n",
       "    </tr>\n",
       "    <tr>\n",
       "      <th>1</th>\n",
       "      <td>0</td>\n",
       "    </tr>\n",
       "    <tr>\n",
       "      <th>2</th>\n",
       "      <td>0</td>\n",
       "    </tr>\n",
       "    <tr>\n",
       "      <th>3</th>\n",
       "      <td>1</td>\n",
       "    </tr>\n",
       "    <tr>\n",
       "      <th>4</th>\n",
       "      <td>1</td>\n",
       "    </tr>\n",
       "    <tr>\n",
       "      <th>...</th>\n",
       "      <td>...</td>\n",
       "    </tr>\n",
       "    <tr>\n",
       "      <th>652155</th>\n",
       "      <td>1</td>\n",
       "    </tr>\n",
       "    <tr>\n",
       "      <th>652156</th>\n",
       "      <td>2</td>\n",
       "    </tr>\n",
       "    <tr>\n",
       "      <th>652157</th>\n",
       "      <td>0</td>\n",
       "    </tr>\n",
       "    <tr>\n",
       "      <th>652158</th>\n",
       "      <td>1</td>\n",
       "    </tr>\n",
       "    <tr>\n",
       "      <th>652159</th>\n",
       "      <td>1</td>\n",
       "    </tr>\n",
       "  </tbody>\n",
       "</table>\n",
       "<p>652160 rows × 1 columns</p>\n",
       "</div>"
      ],
      "text/plain": [
       "        ptLabel\n",
       "0             0\n",
       "1             0\n",
       "2             0\n",
       "3             1\n",
       "4             1\n",
       "...         ...\n",
       "652155        1\n",
       "652156        2\n",
       "652157        0\n",
       "652158        1\n",
       "652159        1\n",
       "\n",
       "[652160 rows x 1 columns]"
      ]
     },
     "execution_count": 3,
     "metadata": {},
     "output_type": "execute_result"
    }
   ],
   "source": [
    "df2 = pd.read_csv('/uscms/home/jieun201/nobackup/YOURWORKINGAREA/dec6_ds8/TrainSetLabel.csv')\n",
    "df2"
   ]
  },
  {
   "cell_type": "code",
   "execution_count": 4,
   "id": "761c52bf-e171-4bb8-a715-650c0bb1fd13",
   "metadata": {},
   "outputs": [],
   "source": [
    "df3 = pd.read_csv('/uscms/home/jieun201/nobackup/YOURWORKINGAREA/dec14_ysize/FullPrecisionInputTestSet.csv')\n",
    "df4 = pd.read_csv('/uscms/home/jieun201/nobackup/YOURWORKINGAREA/dec6_ds8/TestSetLabel.csv')"
   ]
  },
  {
   "cell_type": "code",
   "execution_count": 5,
   "id": "f150ba39-5d91-4633-b6cd-b1ecd0b3ed91",
   "metadata": {},
   "outputs": [
    {
     "name": "stdout",
     "output_type": "stream",
     "text": [
      "(652160, 2) (163040, 2) (652160, 1) (163040, 1)\n"
     ]
    }
   ],
   "source": [
    "X_train = df1.values\n",
    "X_test = df3.values\n",
    "\n",
    "y_train = df2.values\n",
    "y_test = df4.values\n",
    "#X_train, X_test, y_train, y_test = train_test_split(X,y,test_size = 0.20, random_state = 0)\n",
    "\n",
    "print(X_train.shape, X_test.shape, y_train.shape, y_test.shape)"
   ]
  },
  {
   "cell_type": "code",
   "execution_count": 6,
   "id": "beb8db5f-411e-4d01-9d53-26cccf3fd39f",
   "metadata": {},
   "outputs": [
    {
     "data": {
      "text/plain": [
       "array([[0],\n",
       "       [0],\n",
       "       [0],\n",
       "       ...,\n",
       "       [0],\n",
       "       [1],\n",
       "       [1]])"
      ]
     },
     "execution_count": 6,
     "metadata": {},
     "output_type": "execute_result"
    }
   ],
   "source": [
    "y_train"
   ]
  },
  {
   "cell_type": "code",
   "execution_count": 7,
   "id": "23e343bd-a2e8-427a-b00e-c0f778074fad",
   "metadata": {},
   "outputs": [],
   "source": [
    "scaler = StandardScaler()\n",
    "X_train = scaler.fit_transform(X_train.reshape(-1, X_train.shape[-1])).reshape(X_train.shape)\n",
    "X_test = scaler.transform(X_test.reshape(-1, X_test.shape[-1])).reshape(X_test.shape)"
   ]
  },
  {
   "cell_type": "code",
   "execution_count": 8,
   "id": "4720ce89-2eae-4016-a7c2-955ae4bbaae9",
   "metadata": {},
   "outputs": [
    {
     "name": "stdout",
     "output_type": "stream",
     "text": [
      "Model: \"sequential\"\n",
      "_________________________________________________________________\n",
      " Layer (type)                Output Shape              Param #   \n",
      "=================================================================\n",
      " flatten (Flatten)           (None, 2)                 0         \n",
      "                                                                 \n",
      " dense (Dense)               (None, 128)               384       \n",
      "                                                                 \n",
      " dense_1 (Dense)             (None, 3)                 387       \n",
      "                                                                 \n",
      "=================================================================\n",
      "Total params: 771\n",
      "Trainable params: 771\n",
      "Non-trainable params: 0\n",
      "_________________________________________________________________\n",
      "Epoch 1/200\n",
      "510/510 [==============================] - 3s 3ms/step - loss: 0.7953 - sparse_categorical_accuracy: 0.6308 - val_loss: 0.7356 - val_sparse_categorical_accuracy: 0.6482\n",
      "Epoch 2/200\n",
      "510/510 [==============================] - 1s 3ms/step - loss: 0.7298 - sparse_categorical_accuracy: 0.6510 - val_loss: 0.7310 - val_sparse_categorical_accuracy: 0.6489\n",
      "Epoch 3/200\n",
      "510/510 [==============================] - 1s 3ms/step - loss: 0.7282 - sparse_categorical_accuracy: 0.6512 - val_loss: 0.7307 - val_sparse_categorical_accuracy: 0.6491\n",
      "Epoch 4/200\n",
      "510/510 [==============================] - 1s 2ms/step - loss: 0.7277 - sparse_categorical_accuracy: 0.6515 - val_loss: 0.7304 - val_sparse_categorical_accuracy: 0.6489\n",
      "Epoch 5/200\n",
      "510/510 [==============================] - 1s 2ms/step - loss: 0.7272 - sparse_categorical_accuracy: 0.6517 - val_loss: 0.7295 - val_sparse_categorical_accuracy: 0.6501\n",
      "Epoch 6/200\n",
      "510/510 [==============================] - 1s 3ms/step - loss: 0.7269 - sparse_categorical_accuracy: 0.6519 - val_loss: 0.7297 - val_sparse_categorical_accuracy: 0.6498\n",
      "Epoch 7/200\n",
      "510/510 [==============================] - 1s 2ms/step - loss: 0.7265 - sparse_categorical_accuracy: 0.6518 - val_loss: 0.7293 - val_sparse_categorical_accuracy: 0.6504\n",
      "Epoch 8/200\n",
      "510/510 [==============================] - 1s 3ms/step - loss: 0.7262 - sparse_categorical_accuracy: 0.6522 - val_loss: 0.7289 - val_sparse_categorical_accuracy: 0.6506\n",
      "Epoch 9/200\n",
      "510/510 [==============================] - 1s 2ms/step - loss: 0.7260 - sparse_categorical_accuracy: 0.6519 - val_loss: 0.7288 - val_sparse_categorical_accuracy: 0.6498\n",
      "Epoch 10/200\n",
      "510/510 [==============================] - 1s 2ms/step - loss: 0.7257 - sparse_categorical_accuracy: 0.6523 - val_loss: 0.7282 - val_sparse_categorical_accuracy: 0.6504\n",
      "Epoch 11/200\n",
      "510/510 [==============================] - 1s 2ms/step - loss: 0.7256 - sparse_categorical_accuracy: 0.6522 - val_loss: 0.7283 - val_sparse_categorical_accuracy: 0.6501\n",
      "Epoch 12/200\n",
      "510/510 [==============================] - 1s 2ms/step - loss: 0.7253 - sparse_categorical_accuracy: 0.6523 - val_loss: 0.7283 - val_sparse_categorical_accuracy: 0.6500\n",
      "Epoch 13/200\n",
      "510/510 [==============================] - 1s 3ms/step - loss: 0.7251 - sparse_categorical_accuracy: 0.6521 - val_loss: 0.7275 - val_sparse_categorical_accuracy: 0.6506\n",
      "Epoch 14/200\n",
      "510/510 [==============================] - 1s 2ms/step - loss: 0.7250 - sparse_categorical_accuracy: 0.6520 - val_loss: 0.7272 - val_sparse_categorical_accuracy: 0.6501\n",
      "Epoch 15/200\n",
      "510/510 [==============================] - 1s 2ms/step - loss: 0.7248 - sparse_categorical_accuracy: 0.6524 - val_loss: 0.7287 - val_sparse_categorical_accuracy: 0.6487\n",
      "Epoch 16/200\n",
      "510/510 [==============================] - 1s 2ms/step - loss: 0.7245 - sparse_categorical_accuracy: 0.6522 - val_loss: 0.7273 - val_sparse_categorical_accuracy: 0.6504\n",
      "Epoch 17/200\n",
      "510/510 [==============================] - 1s 2ms/step - loss: 0.7243 - sparse_categorical_accuracy: 0.6524 - val_loss: 0.7275 - val_sparse_categorical_accuracy: 0.6500\n",
      "Epoch 18/200\n",
      "510/510 [==============================] - 1s 2ms/step - loss: 0.7241 - sparse_categorical_accuracy: 0.6525 - val_loss: 0.7276 - val_sparse_categorical_accuracy: 0.6495\n",
      "Epoch 19/200\n",
      "510/510 [==============================] - 1s 3ms/step - loss: 0.7238 - sparse_categorical_accuracy: 0.6526 - val_loss: 0.7265 - val_sparse_categorical_accuracy: 0.6507\n",
      "Epoch 20/200\n",
      "510/510 [==============================] - 1s 3ms/step - loss: 0.7237 - sparse_categorical_accuracy: 0.6526 - val_loss: 0.7259 - val_sparse_categorical_accuracy: 0.6510\n",
      "Epoch 21/200\n",
      "510/510 [==============================] - 1s 3ms/step - loss: 0.7233 - sparse_categorical_accuracy: 0.6526 - val_loss: 0.7257 - val_sparse_categorical_accuracy: 0.6508\n",
      "Epoch 22/200\n",
      "510/510 [==============================] - 1s 3ms/step - loss: 0.7232 - sparse_categorical_accuracy: 0.6525 - val_loss: 0.7262 - val_sparse_categorical_accuracy: 0.6502\n",
      "Epoch 23/200\n",
      "510/510 [==============================] - 1s 3ms/step - loss: 0.7230 - sparse_categorical_accuracy: 0.6528 - val_loss: 0.7255 - val_sparse_categorical_accuracy: 0.6504\n",
      "Epoch 24/200\n",
      "510/510 [==============================] - 1s 2ms/step - loss: 0.7228 - sparse_categorical_accuracy: 0.6532 - val_loss: 0.7254 - val_sparse_categorical_accuracy: 0.6513\n",
      "Epoch 25/200\n",
      "510/510 [==============================] - 1s 2ms/step - loss: 0.7228 - sparse_categorical_accuracy: 0.6528 - val_loss: 0.7251 - val_sparse_categorical_accuracy: 0.6514\n",
      "Epoch 26/200\n",
      "510/510 [==============================] - 1s 2ms/step - loss: 0.7227 - sparse_categorical_accuracy: 0.6530 - val_loss: 0.7250 - val_sparse_categorical_accuracy: 0.6518\n",
      "Epoch 27/200\n",
      "510/510 [==============================] - 1s 3ms/step - loss: 0.7225 - sparse_categorical_accuracy: 0.6533 - val_loss: 0.7254 - val_sparse_categorical_accuracy: 0.6510\n",
      "Epoch 28/200\n",
      "510/510 [==============================] - 1s 2ms/step - loss: 0.7226 - sparse_categorical_accuracy: 0.6530 - val_loss: 0.7255 - val_sparse_categorical_accuracy: 0.6506\n",
      "Epoch 29/200\n",
      "510/510 [==============================] - 1s 2ms/step - loss: 0.7226 - sparse_categorical_accuracy: 0.6530 - val_loss: 0.7248 - val_sparse_categorical_accuracy: 0.6521\n",
      "Epoch 30/200\n",
      "510/510 [==============================] - 1s 3ms/step - loss: 0.7225 - sparse_categorical_accuracy: 0.6532 - val_loss: 0.7250 - val_sparse_categorical_accuracy: 0.6509\n",
      "Epoch 31/200\n",
      "510/510 [==============================] - 1s 3ms/step - loss: 0.7224 - sparse_categorical_accuracy: 0.6530 - val_loss: 0.7252 - val_sparse_categorical_accuracy: 0.6513\n",
      "Epoch 32/200\n",
      "510/510 [==============================] - 1s 3ms/step - loss: 0.7224 - sparse_categorical_accuracy: 0.6530 - val_loss: 0.7252 - val_sparse_categorical_accuracy: 0.6516\n",
      "Epoch 33/200\n",
      "510/510 [==============================] - 1s 3ms/step - loss: 0.7225 - sparse_categorical_accuracy: 0.6531 - val_loss: 0.7264 - val_sparse_categorical_accuracy: 0.6498\n",
      "Epoch 34/200\n",
      "510/510 [==============================] - 1s 3ms/step - loss: 0.7224 - sparse_categorical_accuracy: 0.6531 - val_loss: 0.7247 - val_sparse_categorical_accuracy: 0.6516\n",
      "Epoch 35/200\n",
      "510/510 [==============================] - 1s 2ms/step - loss: 0.7224 - sparse_categorical_accuracy: 0.6529 - val_loss: 0.7249 - val_sparse_categorical_accuracy: 0.6516\n",
      "Epoch 36/200\n",
      "510/510 [==============================] - 1s 3ms/step - loss: 0.7224 - sparse_categorical_accuracy: 0.6530 - val_loss: 0.7249 - val_sparse_categorical_accuracy: 0.6512\n",
      "Epoch 37/200\n",
      "510/510 [==============================] - 1s 2ms/step - loss: 0.7223 - sparse_categorical_accuracy: 0.6530 - val_loss: 0.7250 - val_sparse_categorical_accuracy: 0.6517\n",
      "Epoch 38/200\n",
      "510/510 [==============================] - 1s 2ms/step - loss: 0.7223 - sparse_categorical_accuracy: 0.6529 - val_loss: 0.7247 - val_sparse_categorical_accuracy: 0.6517\n",
      "Epoch 39/200\n",
      "510/510 [==============================] - 1s 2ms/step - loss: 0.7223 - sparse_categorical_accuracy: 0.6532 - val_loss: 0.7255 - val_sparse_categorical_accuracy: 0.6508\n",
      "Epoch 40/200\n",
      "510/510 [==============================] - 1s 2ms/step - loss: 0.7222 - sparse_categorical_accuracy: 0.6532 - val_loss: 0.7247 - val_sparse_categorical_accuracy: 0.6515\n",
      "Epoch 41/200\n",
      "510/510 [==============================] - 1s 2ms/step - loss: 0.7223 - sparse_categorical_accuracy: 0.6532 - val_loss: 0.7248 - val_sparse_categorical_accuracy: 0.6516\n",
      "Epoch 42/200\n",
      "510/510 [==============================] - 1s 3ms/step - loss: 0.7223 - sparse_categorical_accuracy: 0.6530 - val_loss: 0.7255 - val_sparse_categorical_accuracy: 0.6503\n",
      "Epoch 43/200\n",
      "510/510 [==============================] - 1s 2ms/step - loss: 0.7222 - sparse_categorical_accuracy: 0.6530 - val_loss: 0.7252 - val_sparse_categorical_accuracy: 0.6513\n",
      "Epoch 44/200\n",
      "510/510 [==============================] - 1s 2ms/step - loss: 0.7223 - sparse_categorical_accuracy: 0.6530 - val_loss: 0.7249 - val_sparse_categorical_accuracy: 0.6510\n",
      "Epoch 45/200\n",
      "510/510 [==============================] - 1s 2ms/step - loss: 0.7223 - sparse_categorical_accuracy: 0.6532 - val_loss: 0.7251 - val_sparse_categorical_accuracy: 0.6507\n",
      "Epoch 46/200\n",
      "510/510 [==============================] - 1s 2ms/step - loss: 0.7222 - sparse_categorical_accuracy: 0.6532 - val_loss: 0.7252 - val_sparse_categorical_accuracy: 0.6516\n",
      "Epoch 47/200\n",
      "510/510 [==============================] - 1s 2ms/step - loss: 0.7223 - sparse_categorical_accuracy: 0.6530 - val_loss: 0.7251 - val_sparse_categorical_accuracy: 0.6519\n",
      "Epoch 48/200\n",
      "510/510 [==============================] - 1s 2ms/step - loss: 0.7222 - sparse_categorical_accuracy: 0.6531 - val_loss: 0.7249 - val_sparse_categorical_accuracy: 0.6514\n",
      "Epoch 49/200\n",
      "510/510 [==============================] - 1s 3ms/step - loss: 0.7222 - sparse_categorical_accuracy: 0.6533 - val_loss: 0.7248 - val_sparse_categorical_accuracy: 0.6516\n"
     ]
    }
   ],
   "source": [
    "model = tf.keras.models.Sequential([\n",
    "  tf.keras.layers.Flatten(input_shape=(2,)),\n",
    "  tf.keras.layers.Dense(128, activation='relu'),\n",
    "  tf.keras.layers.Dense(3,activation='softmax')\n",
    "])\n",
    "\n",
    "model.compile(optimizer=Adam(),\n",
    "              loss=keras.losses.SparseCategoricalCrossentropy(from_logits=False), # default from_logits=False\n",
    "              metrics=[keras.metrics.SparseCategoricalAccuracy()])\n",
    "\n",
    "model.summary()\n",
    "\n",
    "es = EarlyStopping(monitor='val_sparse_categorical_accuracy', \n",
    "                                   mode='max', # don't minimize the accuracy!\n",
    "                                   patience=20,\n",
    "                                   restore_best_weights=True)\n",
    "\n",
    "history = model.fit(X_train,\n",
    "                    y_train,\n",
    "                    callbacks=[es],\n",
    "                    epochs=200, \n",
    "                    batch_size=1024,\n",
    "                    validation_split=0.2,\n",
    "                    shuffle=True,\n",
    "                    verbose=1)"
   ]
  },
  {
   "cell_type": "code",
   "execution_count": 9,
   "id": "0bb4c82a-85d8-4e6c-9396-5ea7ec79e0c4",
   "metadata": {},
   "outputs": [
    {
     "data": {
      "image/png": "[encoded data removed]",
      "text/plain": [
       "<Figure size 640x480 with 1 Axes>"
      ]
     },
     "metadata": {},
     "output_type": "display_data"
    }
   ],
   "source": [
    "history_dict = history.history\n",
    "loss_values = history_dict['loss'] \n",
    "val_loss_values = history_dict['val_loss'] \n",
    "epochs = range(1, len(loss_values) + 1) \n",
    "plt.plot(epochs, loss_values, 'bo', label='Training loss')\n",
    "plt.plot(epochs, val_loss_values, 'orange', label='Validation loss')\n",
    "plt.title('Training and validation loss')\n",
    "plt.xlabel('Epochs')\n",
    "plt.ylabel('Loss')\n",
    "plt.legend()\n",
    "plt.savefig('/home/jieun201/dec14_ysize/loss.png')"
   ]
  },
  {
   "cell_type": "code",
   "execution_count": 10,
   "id": "0c4da634-9a07-4808-93f1-afc1428c08d2",
   "metadata": {},
   "outputs": [
    {
     "data": {
      "image/png": "[encoded data removed]",
      "text/plain": [
       "<Figure size 640x480 with 1 Axes>"
      ]
     },
     "metadata": {},
     "output_type": "display_data"
    }
   ],
   "source": [
    "acc = history.history['sparse_categorical_accuracy']\n",
    "val_acc = history.history['val_sparse_categorical_accuracy']\n",
    "epochs = range(1, len(acc) + 1)\n",
    "plt.plot(epochs, acc, 'bo', label='Training accuracy')\n",
    "plt.plot(epochs, val_acc, 'orange', label='Validation accuracy')\n",
    "plt.title('Training and validation accuracy')\n",
    "plt.xlabel('Epochs')\n",
    "plt.ylabel('Accuracy')\n",
    "plt.legend()\n",
    "#np.max(val_acc)\n",
    "plt.savefig('accuracy.png')\n",
    "plt.savefig('/home/jieun201/dec14_ysize/accuracy.png')"
   ]
  },
  {
   "cell_type": "code",
   "execution_count": 11,
   "id": "1378681c-a72c-4380-84bd-9fcf5b782038",
   "metadata": {},
   "outputs": [
    {
     "name": "stdout",
     "output_type": "stream",
     "text": [
      "5095/5095 [==============================] - 5s 1ms/step\n"
     ]
    }
   ],
   "source": [
    "preds = model.predict(X_test) \n",
    "predictionsFiles =np.argmax(preds, axis=1)"
   ]
  },
  {
   "cell_type": "code",
   "execution_count": null,
   "id": "19848f68-c8d8-469e-ba8e-60de256a4557",
   "metadata": {},
   "outputs": [],
   "source": []
  },
  {
   "cell_type": "code",
   "execution_count": 12,
   "id": "091327bd-28ed-4570-8f00-9315e209bf7e",
   "metadata": {},
   "outputs": [],
   "source": [
    "pd.DataFrame(predictionsFiles).to_csv(\"predictionsFiles.csv\",header='predict', index=False)"
   ]
  },
  {
   "cell_type": "code",
   "execution_count": 13,
   "id": "5fa23cc3-3f30-4cd4-85e5-ae6064869378",
   "metadata": {},
   "outputs": [],
   "source": [
    "pd.DataFrame(y_test).to_csv(\"true.csv\",header='true', index=False)"
   ]
  },
  {
   "cell_type": "code",
   "execution_count": 14,
   "id": "a0abb61d-134a-475d-b39a-4aad39b5d987",
   "metadata": {},
   "outputs": [
    {
     "name": "stdout",
     "output_type": "stream",
     "text": [
      "Test loss: 0.7252229452133179\n",
      "Test accuracy: 0.6542198061943054\n"
     ]
    }
   ],
   "source": [
    "score = model.evaluate(X_test, y_test, verbose=0)\n",
    "print(\"Test loss:\", score[0])\n",
    "print(\"Test accuracy:\", score[1])"
   ]
  },
  {
   "cell_type": "code",
   "execution_count": 15,
   "id": "da7764f4-be85-4566-9ef0-4ba4c6eb9a41",
   "metadata": {},
   "outputs": [
    {
     "name": "stdout",
     "output_type": "stream",
     "text": [
      "Confusion matrix:\n",
      "[[61442  9531 10547]\n",
      " [18904 20896   960]\n",
      " [16417    17 24326]]\n"
     ]
    },
    {
     "data": {
      "image/png": "[encoded data removed]",
      "text/plain": [
       "<Figure size 640x480 with 2 Axes>"
      ]
     },
     "metadata": {},
     "output_type": "display_data"
    }
   ],
   "source": [
    "from sklearn import datasets, svm, metrics\n",
    "disp = metrics.ConfusionMatrixDisplay.from_predictions(y_test, predictionsFiles)\n",
    "disp.figure_.suptitle(\"Multiclassifier Confusion Matrix\")\n",
    "print(f\"Confusion matrix:\\n{disp.confusion_matrix}\")\n",
    "plt.savefig('confusionMatrix.png')\n",
    "plt.show()"
   ]
  },
  {
   "cell_type": "code",
   "execution_count": null,
   "id": "b3ae1c5d-b574-40a8-9733-a175465ad17d",
   "metadata": {},
   "outputs": [],
   "source": []
  }
 ],
 "metadata": {
  "kernelspec": {
   "display_name": "Python 3 (ipykernel)",
   "language": "python",
   "name": "py3-preamble"
  },
  "language_info": {
   "codemirror_mode": {
    "name": "ipython",
    "version": 3
   },
   "file_extension": ".py",
   "mimetype": "text/x-python",
   "name": "python",
   "nbconvert_exporter": "python",
   "pygments_lexer": "ipython3",
   "version": "3.9.15"
  }
 },
 "nbformat": 4,
 "nbformat_minor": 5
}
